{
  "cells": [
    {
      "cell_type": "markdown",
      "metadata": {
        "id": "2Y8brV92_wQS"
      },
      "source": [
        "# Optionale Übung: Kostenfunktion\n",
        "<figure>\n",
        "    <center> <img src=\"https://github.com/EFInf/MachineLearning/blob/main/images/C1_W1_L3_S2_Lecture_b.png?raw=1\"  style=\"width:1000px;height:200px;\" ></center>\n",
        "</figure>\n"
      ],
      "id": "2Y8brV92_wQS"
    },
    {
      "cell_type": "markdown",
      "metadata": {
        "id": "Lk9mXyJ4_wQV"
      },
      "source": [
        "## Ziele\n",
        "In diesem Labor wirst du:\n",
        "- die `cost`‑Funktion für eine lineare Regression mit einer Variablen implementieren und untersuchen.\n"
      ],
      "id": "Lk9mXyJ4_wQV"
    },
    {
      "cell_type": "markdown",
      "metadata": {
        "id": "IPMhtoP__wQW"
      },
      "source": [
        "## Werkzeuge\n",
        "In diesem Labor verwenden wir:\n",
        "- NumPy, eine weit verbreitete Bibliothek für wissenschaftliches Rechnen\n",
        "- Matplotlib, eine beliebte Bibliothek zum Plotten von Daten\n",
        "- Lokale Plot‑Funktionen aus der Datei `lab_utils_uni.py` im aktuellen Verzeichnis\n"
      ],
      "id": "IPMhtoP__wQW"
    },
    {
      "cell_type": "code",
      "execution_count": null,
      "metadata": {
        "id": "08OTzOe5_wQW"
      },
      "outputs": [],
      "source": [
        "import numpy as np\n",
        "import matplotlib.pyplot as plt\n",
        "from lab_utils_uni import plt_intuition, plt_stationary, plt_update_onclick, soup_bowl\n",
        "plt.style.use('./deeplearning.mplstyle')"
      ],
      "id": "08OTzOe5_wQW"
    },
    {
      "cell_type": "markdown",
      "metadata": {
        "id": "kJqZIz_4_wQX"
      },
      "source": [
        "## Problemstellung\n",
        "\n",
        "Du möchtest ein Modell, das den Hauspreis anhand der Größe des Hauses vorhersagen kann.  \n",
        "Verwenden wir wie im vorherigen Labor dieselben zwei Datenpunkte – ein Haus mit 1000 Quadratfuß wurde für 300 000 \\$ verkauft und ein Haus mit 2000 Quadratfuß für 500 000 \\$.\n",
        "\n",
        "| Größe (1000 sqft) | Preis (in 1000 \\$) |\n",
        "|-------------------|--------------------|\n",
        "| 1 | 300 |\n",
        "| 2 | 500 |\n"
      ],
      "id": "kJqZIz_4_wQX"
    },
    {
      "cell_type": "code",
      "execution_count": null,
      "metadata": {
        "id": "xCgWq5TY_wQX"
      },
      "outputs": [],
      "source": [
        "x_train = np.array([1.0, 2.0])           #(size in 1000 square feet)\n",
        "y_train = np.array([300.0, 500.0])           #(price in 1000s of dollars)"
      ],
      "id": "xCgWq5TY_wQX"
    },
    {
      "cell_type": "markdown",
      "metadata": {
        "id": "FSF7fmyf_wQY"
      },
      "source": [
        "## Berechnung der Kosten\n",
        "Der Begriff „Cost“ (Kosten) kann in dieser Aufgabe etwas verwirrend sein, da er sich auf die Güte der Vorhersage bezieht und *nicht* auf den tatsächlichen Preis des Hauses. Der Begriff „Price“ wird nur für die Originaldaten verwendet.\n",
        "\n",
        "Die Gleichung für die Kosten mit einer Variablen lautet:\n",
        "  $$J(w,b) = \\frac{1}{2m} \\sum\\limits_{i = 0}^{m-1} (f_{w,b}(x^{(i)}) - y^{(i)})^2 \\tag{1}$$\n",
        "\n",
        "wobei\n",
        "  $$f_{w,b}(x^{(i)}) = wx^{(i)} + b \\tag{2}$$\n",
        "  \n",
        "- $f_{w,b}(x^{(i)})$ ist unsere Vorhersage für Beispiel $i$ mit den Parametern $w,b$.  \n",
        "- $(f_{w,b}(x^{(i)}) -y^{(i)})^2$ ist die quadrierte Abweichung zwischen Zielwert und Vorhersage.   \n",
        "- Diese Abweichungen werden über alle $m$ Beispiele aufsummiert und durch `2m` geteilt, um die Kosten $J(w,b)$ zu erhalten.  \n",
        ">Hinweis: In den Vorlesungsfolien läuft die Summe meist von 1 bis $m$, im Code jedoch von 0 bis $m-1$.\n"
      ],
      "id": "FSF7fmyf_wQY"
    },
    {
      "cell_type": "markdown",
      "metadata": {
        "id": "f9i-K6dp_wQY"
      },
      "source": [
        "Der folgende Code berechnet die Kosten, indem er über jedes Trainingsbeispiel iteriert. In jeder Schleife wird:\n",
        "- `f_wb`, also eine Vorhersage, berechnet,\n",
        "- die Differenz zwischen Zielwert und Vorhersage bestimmt und quadriert,\n",
        "- und dieser Wert zur Gesamtsumme der Kosten addiert.\n"
      ],
      "id": "f9i-K6dp_wQY"
    },
    {
      "cell_type": "code",
      "execution_count": null,
      "metadata": {
        "id": "2yNl_Sn8_wQY"
      },
      "outputs": [],
      "source": [
        "def compute_cost(x, y, w, b):\n",
        "    \"\"\"\n",
        "    Computes the cost function for linear regression.\n",
        "\n",
        "    Args:\n",
        "      x (ndarray (m,)): Data, m examples\n",
        "      y (ndarray (m,)): target values\n",
        "      w,b (scalar)    : model parameters\n",
        "\n",
        "    Returns\n",
        "        total_cost (float): The cost of using w,b as the parameters for linear regression\n",
        "               to fit the data points in x and y\n",
        "    \"\"\"\n",
        "    # Anzahl der Trainingsbeispiele\n",
        "    m = x.shape[0]\n",
        "\n",
        "    cost_sum = 0\n",
        "    for i in range(m):\n",
        "        f_wb = w * x[i] + b\n",
        "        cost = (f_wb - y[i]) ** 2\n",
        "        cost_sum = cost_sum + cost\n",
        "    total_cost = (1 / (2 * m)) * cost_sum\n",
        "\n",
        "    return total_cost"
      ],
      "id": "2yNl_Sn8_wQY"
    },
    {
      "cell_type": "markdown",
      "metadata": {
        "id": "6dIlfDzh_wQZ"
      },
      "source": [
        "## Intuition zur Kostenfunktion\n"
      ],
      "id": "6dIlfDzh_wQZ"
    },
    {
      "cell_type": "markdown",
      "metadata": {
        "id": "2B2x162o_wQZ"
      },
      "source": [
        "<img align=\"left\" src=\"https://github.com/EFInf/MachineLearning/blob/main/images/C1_W1_Lab02_GoalOfRegression.PNG?raw=1\" style=\"width:350px\">\n",
        "\n",
        "Die Kostenfunktion ist ein Maß dafür, wie genau das Modell auf den Trainingsdaten ist.\n",
        "\n",
        "Gleichung (1) oben zeigt, dass man die Kosten minimieren kann, wenn geeignete Werte für $w$ und $b$ gewählt werden. In diesem einfachen Beispiel mit zwei Punkten ist das sogar exakt möglich!\n",
        "\n",
        "Im vorherigen Labor hast du festgestellt, dass $b=100$ die optimale Lösung liefert, daher setzen wir $b$ auf 100 und konzentrieren uns auf $w$.\n",
        "\n",
        "<br/>\n",
        "Nutze den Schieberegler unten, um den Wert von $w$ zu wählen, der die Kosten minimiert. Das Aktualisieren der Grafik kann ein paar Sekunden dauern.\n"
      ],
      "id": "2B2x162o_wQZ"
    },
    {
      "cell_type": "code",
      "execution_count": null,
      "metadata": {
        "id": "GYaDl7XZ_wQZ"
      },
      "outputs": [],
      "source": [
        "plt_intuition(x_train,y_train)"
      ],
      "id": "GYaDl7XZ_wQZ"
    },
    {
      "cell_type": "markdown",
      "metadata": {
        "id": "UdcbwQqO_wQZ"
      },
      "source": [
        "Die Grafik enthält einige bemerkenswerte Punkte:\n",
        "- Die Kosten werden minimiert, wenn $w = 200$ ist, was mit dem Ergebnis aus dem vorherigen Labor übereinstimmt.\n",
        "- Da der Fehler zwischen Zielwert und Vorhersage quadriert wird, nimmt die Kostenfunktion schnell zu, wenn $w$ zu groß oder zu klein ist.\n",
        "- Die Wahl von $w$ und $b$, die die Kosten minimieren, führt zu einer Geraden, die perfekt zu den Daten passt.\n"
      ],
      "id": "UdcbwQqO_wQZ"
    },
    {
      "cell_type": "markdown",
      "metadata": {
        "id": "PkJNGMzn_wQa"
      },
      "source": [
        "## Visualisierung der Kostenfunktion – 3D\n",
        "\n",
        "Wie sich die Kosten gleichzeitig in Abhängigkeit von `w` und `b` verändern, lässt sich in einer 3D‑Darstellung oder mit einem Konturdiagramm zeigen.  \n",
        "Einige der Plot‑Routinen in diesem Kurs können ein paar Sekunden dauern, bis sie angezeigt werden. Die Funktionen befinden sich in `lab_utils_uni.py` im aktuellen Verzeichnis.\n"
      ],
      "id": "PkJNGMzn_wQa"
    },
    {
      "cell_type": "markdown",
      "metadata": {
        "id": "bOyw5wo-_wQa"
      },
      "source": [
        "### Größerer Datensatz\n",
        "\n",
        "Es ist interessant, ein Szenario mit ein paar mehr Datenpunkten zu betrachten. Kann man immer noch eine Gerade finden, die alle Punkte perfekt trifft? Lässt sich ein Paar $w$ und $b$ finden, das die Kosten auf 0 bringt?\n"
      ],
      "id": "bOyw5wo-_wQa"
    },
    {
      "cell_type": "code",
      "execution_count": null,
      "metadata": {
        "id": "tTaZl5ks_wQa"
      },
      "outputs": [],
      "source": [
        "x_train = np.array([1.0, 1.7, 2.0, 2.5, 3.0, 3.2])\n",
        "y_train = np.array([250, 300, 480,  430,   630, 730,])"
      ],
      "id": "tTaZl5ks_wQa"
    },
    {
      "cell_type": "markdown",
      "metadata": {
        "id": "wE3lDHeG_wQa"
      },
      "source": [
        "Klicke im Konturdiagramm auf einen Punkt, um ein Paar `w` und `b` auszuwählen, und beobachte, wie dies die Kosten beeinflusst. Du kannst mehrere Auswahlpunkte ausprobieren. Beachte, dass die Grafik ein paar Sekunden braucht, um sich zu aktualisieren.\n"
      ],
      "id": "wE3lDHeG_wQa"
    },
    {
      "cell_type": "code",
      "execution_count": null,
      "metadata": {
        "id": "XTKj2P01_wQa"
      },
      "outputs": [],
      "source": [
        "plt.close('all')\n",
        "fig, ax, dyn_items = plt_stationary(x_train, y_train)\n",
        "updater = plt_update_onclick(fig, ax, x_train, y_train, dyn_items)"
      ],
      "id": "XTKj2P01_wQa"
    },
    {
      "cell_type": "markdown",
      "metadata": {
        "id": "jjl5quY4_wQb"
      },
      "source": [
        "Beachte oben die gestrichelten Linien im linken Plot. Sie zeigen den Anteil der Kosten, der von jedem einzelnen Trainingsbeispiel stammt. Da die Trainingspunkte nicht exakt auf einer Linie liegen, ist das Minimum der Kostenfunktion größer als 0.\n"
      ],
      "id": "jjl5quY4_wQb"
    },
    {
      "cell_type": "markdown",
      "metadata": {
        "id": "p6cf8UJ2_wQb"
      },
      "source": [
        "### Konvexe Kostenfläche\n",
        "\n",
        "Dadurch, dass die Kostenfunktion den Fehler quadriert, wird sie streng konvex. Das garantiert, dass es nur ein globales Minimum gibt. In der Vorlesung wurde dazu die folgende Darstellung gezeigt, in der $w$ und $b$ symmetrisch sind:\n"
      ],
      "id": "p6cf8UJ2_wQb"
    },
    {
      "cell_type": "code",
      "execution_count": null,
      "metadata": {
        "id": "sLVIiF5K_wQb"
      },
      "outputs": [],
      "source": [
        "soup_bowl()"
      ],
      "id": "sLVIiF5K_wQb"
    },
    {
      "cell_type": "markdown",
      "metadata": {
        "id": "OAuwdnG0_wQb"
      },
      "source": [
        "# Glückwunsch!\n",
        "Du hast Folgendes gelernt:\n",
        " - Mit der Kostengleichung kannst du messen, wie gut deine Vorhersagen zu den Trainingsdaten passen.\n",
        " - Durch das Minimieren der Kosten findest du optimale Werte für $w$ und $b$.\n"
      ],
      "id": "OAuwdnG0_wQb"
    },
    {
      "cell_type": "code",
      "execution_count": null,
      "metadata": {
        "id": "-2u_0mG-_wQb"
      },
      "outputs": [],
      "source": [],
      "id": "-2u_0mG-_wQb"
    }
  ],
  "metadata": {
    "kernelspec": {
      "display_name": "Python 3",
      "language": "python",
      "name": "python3"
    },
    "language_info": {
      "codemirror_mode": {
        "name": "ipython",
        "version": 3
      },
      "file_extension": ".py",
      "mimetype": "text/x-python",
      "name": "python",
      "nbconvert_exporter": "python",
      "pygments_lexer": "ipython3",
      "version": "3.7.6"
    },
    "toc-autonumbering": false,
    "colab": {
      "provenance": []
    }
  },
  "nbformat": 4,
  "nbformat_minor": 5
}