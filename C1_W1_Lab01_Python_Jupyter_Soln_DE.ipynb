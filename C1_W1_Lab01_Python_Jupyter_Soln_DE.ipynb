{
 "cells": [
  {
   "cell_type": "markdown",
   "metadata": {},
   "source": [
    "# Optionales Labor: Kurze Einführung in Python und Jupyter‑Notebooks\n",
    "Willkommen zum ersten optionalen Labor!\n",
    "Optionale Labore dienen dazu:\n",
    "- Informationen bereitzustellen – wie dieses Notebook\n",
    "- Vorlesungsinhalte mit praktischen Beispielen zu vertiefen\n",
    "- Funktionsfähige Beispiele von Routinen bereitzustellen, die in den bewerteten Laboren verwendet werden\n"
   ]
  },
  {
   "cell_type": "markdown",
   "metadata": {},
   "source": [
    "## Ziele\n",
    "In diesem Labor wirst du:\n",
    "- Eine kurze Einführung in Jupyter‑Notebooks erhalten\n",
    "- Einen Rundgang durch Jupyter‑Notebooks machen\n",
    "- Den Unterschied zwischen Markdown‑Zellen und Code‑Zellen kennenlernen\n",
    "- Etwas grundlegendes Python üben\n"
   ]
  },
  {
   "cell_type": "markdown",
   "metadata": {},
   "source": [
    "Der einfachste Weg, um sich mit Jupyter‑Notebooks vertraut zu machen, ist die Tour, die oben im Menü **Help** verfügbar ist:\n"
   ]
  },
  {
   "cell_type": "markdown",
   "metadata": {},
   "source": [
    "<figure>\n",
    "    <center> <img src=\"./images/C1W1L1_Tour.PNG\"  alt='missing' width=\"400\"  ><center/>\n",
    "<figure/>"
   ]
  },
  {
   "cell_type": "markdown",
   "metadata": {},
   "source": [
    "Jupyter‑Notebooks besitzen zwei Arten von Zellen, die in diesem ... den falschen Modus geraten sein und du musst ihn möglicherweise in den richtigen Zustand zurückversetzen:\n"
   ]
  },
  {
   "cell_type": "markdown",
   "metadata": {},
   "source": [
    "<figure>\n",
    "   <img src=\"./images/C1W1L1_Markdown.PNG\"  alt='missing' width=\"400\"  >\n",
    "<figure/>"
   ]
  },
  {
   "cell_type": "markdown",
   "metadata": {},
   "source": [
    "Der andere Zelltyp ist die `Code‑Zelle`, in der du deinen Code schreibst:\n"
   ]
  },
  {
   "cell_type": "code",
   "execution_count": 1,
   "metadata": {},
   "outputs": [
    {
     "name": "stdout",
     "output_type": "stream",
     "text": [
      "This is  code cell\n"
     ]
    }
   ],
   "source": [
    "# Dies ist eine 'Code'-Zelle\n",
    "print(\"Dies ist eine Code‑Zelle\")\n"
   ]
  },
  {
   "cell_type": "markdown",
   "metadata": {},
   "source": [
    "## Python\n",
    "Du kannst deinen Code in den Code‑Zellen schreiben.\n",
    "Um den Code auszuführen, wähle die Zelle aus und entweder\n",
    "- halte die Umschalttaste gedrückt und drücke 'Enter' oder 'Return'\n",
    "- klicke oben auf den 'Run'‑Pfeil\n",
    "<figure>\n",
    "    <img src=\"./images/C1W1L1_Run.PNG\"  width=\"400\"  >\n",
    "<figure/>\n"
   ]
  },
  {
   "cell_type": "markdown",
   "metadata": {},
   "source": [
    "### Print‑Anweisung\n",
    "Print‑Anweisungen verwenden hier meist den Python‑f‑String‑Stil.  \n",
    "Erstelle im folgenden Feld deine eigene Print‑Anweisung.  \n",
    "Probiere beide Methoden, um die Zelle auszuführen.\n"
   ]
  },
  {
   "cell_type": "code",
   "execution_count": 2,
   "metadata": {},
   "outputs": [
    {
     "name": "stdout",
     "output_type": "stream",
     "text": [
      "f strings allow you to embed variables right in the strings!\n"
     ]
    }
   ],
   "source": [
    "variable = \"direkt in den Strings!\"\n",
    "print(f\"f‑Strings ermöglichen es, Variablen einzubetten {variable}\")\n"
   ]
  },
  {
   "cell_type": "markdown",
   "metadata": {},
   "source": [
    "# Glückwunsch!\n",
    "Du weißt jetzt, wie du dich in einem Jupyter‑Notebook zurechtfindest.\n"
   ]
  }
 ],
 "metadata": {
  "kernelspec": {
   "display_name": "Python 3",
   "language": "python",
   "name": "python3"
  },
  "language_info": {
   "codemirror_mode": {
    "name": "ipython",
    "version": 3
   },
   "file_extension": ".py",
   "mimetype": "text/x-python",
   "name": "python",
   "nbconvert_exporter": "python",
   "pygments_lexer": "ipython3",
   "version": "3.7.6"
  }
 },
 "nbformat": 4,
 "nbformat_minor": 5
}